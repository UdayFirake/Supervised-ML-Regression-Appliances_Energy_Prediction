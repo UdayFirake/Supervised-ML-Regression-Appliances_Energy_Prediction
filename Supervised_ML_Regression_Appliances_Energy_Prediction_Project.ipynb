{
  "nbformat": 4,
  "nbformat_minor": 0,
  "metadata": {
    "colab": {
      "private_outputs": true,
      "provenance": [],
      "include_colab_link": true
    },
    "kernelspec": {
      "name": "python3",
      "display_name": "Python 3"
    },
    "language_info": {
      "name": "python"
    }
  },
  "cells": [
    {
      "cell_type": "markdown",
      "metadata": {
        "id": "view-in-github",
        "colab_type": "text"
      },
      "source": [
        "<a href=\"https://colab.research.google.com/github/UdayFirake/Supervised_ML-Regression-Appliances_Energy_Prediction/blob/main/Supervised_ML_Regression_Appliances_Energy_Prediction_Project.ipynb\" target=\"_parent\"><img src=\"https://colab.research.google.com/assets/colab-badge.svg\" alt=\"Open In Colab\"/></a>"
      ]
    },
    {
      "cell_type": "markdown",
      "source": [
        "# **Project Name**    - **Appliances Energy Prediction**\n",
        "\n"
      ],
      "metadata": {
        "id": "vncDsAP0Gaoa"
      }
    },
    {
      "cell_type": "markdown",
      "source": [
        "##### **Project Type**    - Regression\n",
        "##### **Contribution**    - Individual"
      ],
      "metadata": {
        "id": "beRrZCGUAJYm"
      }
    },
    {
      "cell_type": "markdown",
      "source": [
        "# **Project Summary -**"
      ],
      "metadata": {
        "id": "FJNUwmbgGyua"
      }
    },
    {
      "cell_type": "markdown",
      "source": [
        "\n",
        "\n",
        "Data-driven prediction of energy use of appliances The data set is at 10 min for about 4.5 months. The house temperature and humidity conditions were monitored with a ZigBee wireless sensor network. Each wireless node transmitted the temperature and humidity conditions around 3.3 min. Then, the wireless data was averaged for 10 minutes periods. The energy data was logged every 10 minutes with m-bus energy meters. Weather from the nearest airport weather station (Chievres Airport, Belgium) was downloaded from a public data set from Reliable Prognosis (rp5.ru) and merged together with the experimental data sets using the date and time column.\n",
        "\n",
        "Data Description date time year-month-day hour:minute:second\n",
        "\n",
        "date - time year-month-day hour:minute:second\n",
        "\n",
        "Appliances - energy use in Wh (Dependent variable)\n",
        "\n",
        "lights - energy use of light fixtures in the house in Wh (Drop this column)\n",
        "\n",
        "T1 - Temperature in kitchen area, in Celsius\n",
        "\n",
        "RH1 - Humidity in kitchen area, in %\n",
        "\n",
        "T2 - Temperature in living room area, in Celsius\n",
        "\n",
        "RH2 - Humidity in living room area, in %\n",
        "\n",
        "T3 - Temperature in laundry room area\n",
        "\n",
        "RH3 - Humidity in laundry room area, in %\n",
        "\n",
        "T4 - Temperature in office room, in Celsius\n",
        "\n",
        "RH4 - Humidity in office room, in %\n",
        "\n",
        "T5 - Temperature in bathroom, in Celsius\n",
        "\n",
        "RH5 - Humidity in bathroom, in %\n",
        "\n",
        "T6 - Temperature outside the building (north side), in Celsius\n",
        "\n",
        "RH6 - Humidity outside the building (north side), in %\n",
        "\n",
        "T7 - Temperature in ironing room, in Celsius\n",
        "\n",
        "RH7 - Humidity in ironing room, in %\n",
        "\n",
        "T8 - Temperature in teenager room 2, in Celsius\n",
        "\n",
        "RH8 - Humidity in teenager room 2, in %\n",
        "\n",
        "T9 - Temperature in parents room, in Celsius\n",
        "\n",
        "RH9 - Humidity in parents room, in %\n",
        "\n",
        "T_out - Temperature outside (from Chievres weather station), in Celsius\n",
        "\n",
        "Pressure - (from Chievres weather station), in mm Hg RHout\n",
        "\n",
        "Humidity - outside (from Chievres weather station), in %\n",
        "\n",
        "Wind speed - (from Chievres weather station), in m/s\n",
        "\n",
        "Visibility - (from Chievres weather station), in km\n",
        "\n",
        "Tdewpoint - (from Chievres weather station), Â°C\n",
        "\n",
        "rv1 - Random variable 1, nondimensional\n",
        "\n",
        "rv2 - Random variable 2, nondimensional\n",
        "\n",
        "Where indicated, hourly data (then interpolated) from the nearest airport weather station(Chievres Airport, Belgium) was downloaded from a public data set from Reliable Prognosis,rp5.ru. Permission was obtained from Reliable Prognosis for the distribution of the 4.5 months of weather data.\n"
      ],
      "metadata": {
        "id": "F6v_1wHtG2nS"
      }
    }
  ]
}